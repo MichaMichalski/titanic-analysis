{
 "cells": [
  {
   "cell_type": "markdown",
   "metadata": {},
   "source": [
    "# Titanic - Classification Project"
   ]
  },
  {
   "cell_type": "markdown",
   "metadata": {},
   "source": [
    "## 1. (Business) Goal:\n",
    "- Goal of this project is to be able to build a model which is able to predict the circumstances on which the passengers of the titanic survived or not."
   ]
  },
  {
   "cell_type": "markdown",
   "metadata": {},
   "source": [
    "## 2. Get Data\n",
    "- I decided to get the data from seaborn to make sure other people can reproduce the same results on their device and herefore having access to the exact same dataset. The seaborn dataset looks mostly the same as the dataset given in the kaggle competition"
   ]
  },
  {
   "cell_type": "code",
   "execution_count": 2,
   "metadata": {},
   "outputs": [],
   "source": [
    "import pandas as pd\n",
    "import seaborn as sns"
   ]
  },
  {
   "cell_type": "code",
   "execution_count": 3,
   "metadata": {},
   "outputs": [],
   "source": [
    "df = sns.load_dataset('titanic')"
   ]
  },
  {
   "cell_type": "code",
   "execution_count": 4,
   "metadata": {},
   "outputs": [
    {
     "data": {
      "text/html": [
       "<div>\n",
       "<style scoped>\n",
       "    .dataframe tbody tr th:only-of-type {\n",
       "        vertical-align: middle;\n",
       "    }\n",
       "\n",
       "    .dataframe tbody tr th {\n",
       "        vertical-align: top;\n",
       "    }\n",
       "\n",
       "    .dataframe thead th {\n",
       "        text-align: right;\n",
       "    }\n",
       "</style>\n",
       "<table border=\"1\" class=\"dataframe\">\n",
       "  <thead>\n",
       "    <tr style=\"text-align: right;\">\n",
       "      <th></th>\n",
       "      <th>survived</th>\n",
       "      <th>pclass</th>\n",
       "      <th>sex</th>\n",
       "      <th>age</th>\n",
       "      <th>sibsp</th>\n",
       "      <th>parch</th>\n",
       "      <th>fare</th>\n",
       "      <th>embarked</th>\n",
       "      <th>class</th>\n",
       "      <th>who</th>\n",
       "      <th>adult_male</th>\n",
       "      <th>deck</th>\n",
       "      <th>embark_town</th>\n",
       "      <th>alive</th>\n",
       "      <th>alone</th>\n",
       "    </tr>\n",
       "  </thead>\n",
       "  <tbody>\n",
       "    <tr>\n",
       "      <th>0</th>\n",
       "      <td>0</td>\n",
       "      <td>3</td>\n",
       "      <td>male</td>\n",
       "      <td>22.0</td>\n",
       "      <td>1</td>\n",
       "      <td>0</td>\n",
       "      <td>7.2500</td>\n",
       "      <td>S</td>\n",
       "      <td>Third</td>\n",
       "      <td>man</td>\n",
       "      <td>True</td>\n",
       "      <td>NaN</td>\n",
       "      <td>Southampton</td>\n",
       "      <td>no</td>\n",
       "      <td>False</td>\n",
       "    </tr>\n",
       "    <tr>\n",
       "      <th>1</th>\n",
       "      <td>1</td>\n",
       "      <td>1</td>\n",
       "      <td>female</td>\n",
       "      <td>38.0</td>\n",
       "      <td>1</td>\n",
       "      <td>0</td>\n",
       "      <td>71.2833</td>\n",
       "      <td>C</td>\n",
       "      <td>First</td>\n",
       "      <td>woman</td>\n",
       "      <td>False</td>\n",
       "      <td>C</td>\n",
       "      <td>Cherbourg</td>\n",
       "      <td>yes</td>\n",
       "      <td>False</td>\n",
       "    </tr>\n",
       "    <tr>\n",
       "      <th>2</th>\n",
       "      <td>1</td>\n",
       "      <td>3</td>\n",
       "      <td>female</td>\n",
       "      <td>26.0</td>\n",
       "      <td>0</td>\n",
       "      <td>0</td>\n",
       "      <td>7.9250</td>\n",
       "      <td>S</td>\n",
       "      <td>Third</td>\n",
       "      <td>woman</td>\n",
       "      <td>False</td>\n",
       "      <td>NaN</td>\n",
       "      <td>Southampton</td>\n",
       "      <td>yes</td>\n",
       "      <td>True</td>\n",
       "    </tr>\n",
       "    <tr>\n",
       "      <th>3</th>\n",
       "      <td>1</td>\n",
       "      <td>1</td>\n",
       "      <td>female</td>\n",
       "      <td>35.0</td>\n",
       "      <td>1</td>\n",
       "      <td>0</td>\n",
       "      <td>53.1000</td>\n",
       "      <td>S</td>\n",
       "      <td>First</td>\n",
       "      <td>woman</td>\n",
       "      <td>False</td>\n",
       "      <td>C</td>\n",
       "      <td>Southampton</td>\n",
       "      <td>yes</td>\n",
       "      <td>False</td>\n",
       "    </tr>\n",
       "    <tr>\n",
       "      <th>4</th>\n",
       "      <td>0</td>\n",
       "      <td>3</td>\n",
       "      <td>male</td>\n",
       "      <td>35.0</td>\n",
       "      <td>0</td>\n",
       "      <td>0</td>\n",
       "      <td>8.0500</td>\n",
       "      <td>S</td>\n",
       "      <td>Third</td>\n",
       "      <td>man</td>\n",
       "      <td>True</td>\n",
       "      <td>NaN</td>\n",
       "      <td>Southampton</td>\n",
       "      <td>no</td>\n",
       "      <td>True</td>\n",
       "    </tr>\n",
       "  </tbody>\n",
       "</table>\n",
       "</div>"
      ],
      "text/plain": [
       "   survived  pclass     sex   age  sibsp  parch     fare embarked  class  \\\n",
       "0         0       3    male  22.0      1      0   7.2500        S  Third   \n",
       "1         1       1  female  38.0      1      0  71.2833        C  First   \n",
       "2         1       3  female  26.0      0      0   7.9250        S  Third   \n",
       "3         1       1  female  35.0      1      0  53.1000        S  First   \n",
       "4         0       3    male  35.0      0      0   8.0500        S  Third   \n",
       "\n",
       "     who  adult_male deck  embark_town alive  alone  \n",
       "0    man        True  NaN  Southampton    no  False  \n",
       "1  woman       False    C    Cherbourg   yes  False  \n",
       "2  woman       False  NaN  Southampton   yes   True  \n",
       "3  woman       False    C  Southampton   yes  False  \n",
       "4    man        True  NaN  Southampton    no   True  "
      ]
     },
     "execution_count": 4,
     "metadata": {},
     "output_type": "execute_result"
    }
   ],
   "source": [
    "# first taking a look at the first lines to make sure import worked as expected.\n",
    "df.head()"
   ]
  },
  {
   "cell_type": "code",
   "execution_count": 5,
   "metadata": {},
   "outputs": [
    {
     "name": "stdout",
     "output_type": "stream",
     "text": [
      "<class 'pandas.core.frame.DataFrame'>\n",
      "RangeIndex: 891 entries, 0 to 890\n",
      "Data columns (total 15 columns):\n",
      " #   Column       Non-Null Count  Dtype   \n",
      "---  ------       --------------  -----   \n",
      " 0   survived     891 non-null    int64   \n",
      " 1   pclass       891 non-null    int64   \n",
      " 2   sex          891 non-null    object  \n",
      " 3   age          714 non-null    float64 \n",
      " 4   sibsp        891 non-null    int64   \n",
      " 5   parch        891 non-null    int64   \n",
      " 6   fare         891 non-null    float64 \n",
      " 7   embarked     889 non-null    object  \n",
      " 8   class        891 non-null    category\n",
      " 9   who          891 non-null    object  \n",
      " 10  adult_male   891 non-null    bool    \n",
      " 11  deck         203 non-null    category\n",
      " 12  embark_town  889 non-null    object  \n",
      " 13  alive        891 non-null    object  \n",
      " 14  alone        891 non-null    bool    \n",
      "dtypes: bool(2), category(2), float64(2), int64(4), object(5)\n",
      "memory usage: 80.7+ KB\n"
     ]
    }
   ],
   "source": [
    "df.info()"
   ]
  },
  {
   "cell_type": "markdown",
   "metadata": {},
   "source": [
    "### The columns `deck` and `age` seem to have a lot of missing values. The rest seems to be fine"
   ]
  },
  {
   "cell_type": "code",
   "execution_count": 6,
   "metadata": {},
   "outputs": [
    {
     "data": {
      "text/plain": [
       "survived         0\n",
       "pclass           0\n",
       "sex              0\n",
       "age            177\n",
       "sibsp            0\n",
       "parch            0\n",
       "fare             0\n",
       "embarked         2\n",
       "class            0\n",
       "who              0\n",
       "adult_male       0\n",
       "deck           688\n",
       "embark_town      2\n",
       "alive            0\n",
       "alone            0\n",
       "dtype: int64"
      ]
     },
     "execution_count": 6,
     "metadata": {},
     "output_type": "execute_result"
    }
   ],
   "source": [
    "df.isna().sum()"
   ]
  },
  {
   "cell_type": "markdown",
   "metadata": {},
   "source": [
    "## 3. Train/Test split\n",
    "- Before I can split the dataset I want to make sure, that the data I pass makes sense. \n",
    "    - I have a lot of missing values in the `deck` column. I will drop this column as in imputation on this one may generate a lot of non-representant values.\n",
    "    - For the same reason I will drop the `age` column. Also we do have information in the `who` column regarding if adult or child. This may be enough information to derive from an attribute as `age`\n",
    "    - I will remove the `adult_male` column as it is only a filter for the `who` column returning `True` if it is a man.\n",
    "    - The column `pclass` will also be removed, as we have the same information in the `class` column.\n",
    "    - I will also drop the `alive` column as this is only a resemblance of the `survived` column. I will use the `survived` column as the column I want to predict\n",
    "    - I will drop the `embark_town` column as it is redundant with the `embarked` column\n",
    "- I decided to drop the 2 rows having `NaN` values on the `embarked` column as we probably wont suffer a lot data loss and keep things \"real\""
   ]
  },
  {
   "cell_type": "code",
   "execution_count": 7,
   "metadata": {},
   "outputs": [],
   "source": [
    "df.drop(labels=['deck', 'age', 'alive', 'embark_town', 'adult_male', 'pclass'], axis=1, inplace=True)"
   ]
  },
  {
   "cell_type": "code",
   "execution_count": 8,
   "metadata": {},
   "outputs": [],
   "source": [
    "df.dropna(inplace=True)"
   ]
  },
  {
   "cell_type": "code",
   "execution_count": 9,
   "metadata": {},
   "outputs": [],
   "source": [
    "y = df['survived']\n",
    "# Passing the \"cleaned\" DataFrame with exception of the 'survived' column\n",
    "X = df.drop('survived', axis=1)"
   ]
  },
  {
   "cell_type": "code",
   "execution_count": 10,
   "metadata": {},
   "outputs": [
    {
     "data": {
      "text/plain": [
       "((666, 8), (223, 8), (666,), (223,))"
      ]
     },
     "execution_count": 10,
     "metadata": {},
     "output_type": "execute_result"
    }
   ],
   "source": [
    "from sklearn.model_selection import train_test_split\n",
    "Xtrain, Xtest, ytrain, ytest = train_test_split(X, y, random_state=42)\n",
    "Xtrain.shape, Xtest.shape, ytrain.shape, ytest.shape"
   ]
  },
  {
   "cell_type": "markdown",
   "metadata": {},
   "source": [
    "## 4. Explore the data\n",
    "#### First I will assemble the train data together with its target to have a thorough exploration"
   ]
  },
  {
   "cell_type": "code",
   "execution_count": 11,
   "metadata": {},
   "outputs": [
    {
     "data": {
      "text/html": [
       "<div>\n",
       "<style scoped>\n",
       "    .dataframe tbody tr th:only-of-type {\n",
       "        vertical-align: middle;\n",
       "    }\n",
       "\n",
       "    .dataframe tbody tr th {\n",
       "        vertical-align: top;\n",
       "    }\n",
       "\n",
       "    .dataframe thead th {\n",
       "        text-align: right;\n",
       "    }\n",
       "</style>\n",
       "<table border=\"1\" class=\"dataframe\">\n",
       "  <thead>\n",
       "    <tr style=\"text-align: right;\">\n",
       "      <th></th>\n",
       "      <th>sex</th>\n",
       "      <th>sibsp</th>\n",
       "      <th>parch</th>\n",
       "      <th>fare</th>\n",
       "      <th>embarked</th>\n",
       "      <th>class</th>\n",
       "      <th>who</th>\n",
       "      <th>alone</th>\n",
       "      <th>survived</th>\n",
       "    </tr>\n",
       "  </thead>\n",
       "  <tbody>\n",
       "    <tr>\n",
       "      <th>376</th>\n",
       "      <td>female</td>\n",
       "      <td>0</td>\n",
       "      <td>0</td>\n",
       "      <td>7.2500</td>\n",
       "      <td>S</td>\n",
       "      <td>Third</td>\n",
       "      <td>woman</td>\n",
       "      <td>True</td>\n",
       "      <td>1</td>\n",
       "    </tr>\n",
       "    <tr>\n",
       "      <th>458</th>\n",
       "      <td>female</td>\n",
       "      <td>0</td>\n",
       "      <td>0</td>\n",
       "      <td>10.5000</td>\n",
       "      <td>S</td>\n",
       "      <td>Second</td>\n",
       "      <td>woman</td>\n",
       "      <td>True</td>\n",
       "      <td>1</td>\n",
       "    </tr>\n",
       "    <tr>\n",
       "      <th>732</th>\n",
       "      <td>male</td>\n",
       "      <td>0</td>\n",
       "      <td>0</td>\n",
       "      <td>0.0000</td>\n",
       "      <td>S</td>\n",
       "      <td>Second</td>\n",
       "      <td>man</td>\n",
       "      <td>True</td>\n",
       "      <td>0</td>\n",
       "    </tr>\n",
       "    <tr>\n",
       "      <th>507</th>\n",
       "      <td>male</td>\n",
       "      <td>0</td>\n",
       "      <td>0</td>\n",
       "      <td>26.5500</td>\n",
       "      <td>S</td>\n",
       "      <td>First</td>\n",
       "      <td>man</td>\n",
       "      <td>True</td>\n",
       "      <td>1</td>\n",
       "    </tr>\n",
       "    <tr>\n",
       "      <th>830</th>\n",
       "      <td>female</td>\n",
       "      <td>1</td>\n",
       "      <td>0</td>\n",
       "      <td>14.4542</td>\n",
       "      <td>C</td>\n",
       "      <td>Third</td>\n",
       "      <td>child</td>\n",
       "      <td>False</td>\n",
       "      <td>1</td>\n",
       "    </tr>\n",
       "  </tbody>\n",
       "</table>\n",
       "</div>"
      ],
      "text/plain": [
       "        sex  sibsp  parch     fare embarked   class    who  alone  survived\n",
       "376  female      0      0   7.2500        S   Third  woman   True         1\n",
       "458  female      0      0  10.5000        S  Second  woman   True         1\n",
       "732    male      0      0   0.0000        S  Second    man   True         0\n",
       "507    male      0      0  26.5500        S   First    man   True         1\n",
       "830  female      1      0  14.4542        C   Third  child  False         1"
      ]
     },
     "execution_count": 11,
     "metadata": {},
     "output_type": "execute_result"
    }
   ],
   "source": [
    "fulltraindf = pd.concat([Xtrain, ytrain], axis=1)\n",
    "fulltraindf.head()"
   ]
  },
  {
   "cell_type": "code",
   "execution_count": 12,
   "metadata": {},
   "outputs": [
    {
     "data": {
      "text/plain": [
       "<AxesSubplot:>"
      ]
     },
     "execution_count": 12,
     "metadata": {},
     "output_type": "execute_result"
    },
    {
     "data": {
      "image/png": "[encoded data removed]",
      "text/plain": [
       "<Figure size 432x288 with 2 Axes>"
      ]
     },
     "metadata": {
      "needs_background": "light"
     },
     "output_type": "display_data"
    }
   ],
   "source": [
    "sns.heatmap(fulltraindf.corr(), annot=True)"
   ]
  },
  {
   "cell_type": "markdown",
   "metadata": {},
   "source": [
    "Most of my columns are not highly correlated which is good. This means, that I don't have a any reason to drop another column due to redundance"
   ]
  },
  {
   "cell_type": "code",
   "execution_count": 19,
   "metadata": {},
   "outputs": [
    {
     "data": {
      "image/png": "[encoded data removed]",
      "text/plain": [
       "<Figure size 432x288 with 1 Axes>"
      ]
     },
     "metadata": {
      "needs_background": "light"
     },
     "output_type": "display_data"
    }
   ],
   "source": [
    "ax = fulltraindf['survived'].value_counts().plot(kind='bar', rot=0.5)\n",
    "for p in ax.patches:\n",
    "    ax.annotate(str(p.get_height()), (p.get_x() * 1.005, p.get_height() * 1.01))"
   ]
  },
  {
   "cell_type": "markdown",
   "metadata": {},
   "source": [
    "We can see, that 408 people drowned, while 258 survived"
   ]
  },
  {
   "cell_type": "markdown",
   "metadata": {},
   "source": [
    "## 5. Feature Engineering"
   ]
  },
  {
   "cell_type": "markdown",
   "metadata": {},
   "source": [
    "Let's take a look at our columns and differiantiate between categorical columns and numerical ones\n",
    "\n",
    "Categorical:\n",
    "- In the `sex` column we have \"male\" and \"female\" as categories.\n",
    "- In the `embarked` column we have the ports in which the passengers boarded \"S\", \"C\" and \"Q\".\n",
    "- In the `class` column we have \"First\", \"Second\" and \"Third\" class as categories.\n",
    "- In the `who` column we have \"woman\", \"man\" and \"child\" as categories.\n",
    "- Finally in the `alone` column  we have \"True\" and \"False\" as values describing if the passengers were in compandy of another passenger or not\n",
    "\n",
    "Numerical:\n",
    "- We have the `sibsp` column describing the amount of siblings or spouses for each passenger. The numbers range between 0 and 8\n",
    "- The `parch` column describes how many parents/children the passenger has on board of the ship. These numbers range from 0 to 6\n",
    "- Finally we have the `fare` column describing how much the passenger paid for their ticket. Thes numbers range between 0 and 512.3292"
   ]
  },
  {
   "cell_type": "markdown",
   "metadata": {},
   "source": [
    "I decided to hot-encode all the categorical columns and run the MinMaxScaler on all numerical columns"
   ]
  },
  {
   "cell_type": "code",
   "execution_count": 20,
   "metadata": {},
   "outputs": [],
   "source": [
    "from sklearn.preprocessing import MinMaxScaler, OneHotEncoder\n",
    "from sklearn.compose import ColumnTransformer"
   ]
  },
  {
   "cell_type": "code",
   "execution_count": 21,
   "metadata": {},
   "outputs": [],
   "source": [
    "trans = ColumnTransformer(\n",
    "    (\n",
    "        ('cat_preprocessing', OneHotEncoder(sparse=False, handle_unknown='ignore'), ['sex', 'embarked', 'class', 'who', 'alone']),\n",
    "        ('num_preprocessing', MinMaxScaler(), ['sibsp', 'parch', 'fare'])\n",
    "    )\n",
    ")"
   ]
  },
  {
   "cell_type": "code",
   "execution_count": 22,
   "metadata": {},
   "outputs": [],
   "source": [
    "XtrainTrans = trans.fit_transform(Xtrain)\n",
    "XtestTrans = trans.transform(Xtest)"
   ]
  },
  {
   "cell_type": "markdown",
   "metadata": {},
   "source": [
    "# 6. Train Model\n",
    "#### 6.1 Have a baseline Model\n",
    "##### I decided to go with the DummyClassifier for the baseline modell"
   ]
  },
  {
   "cell_type": "code",
   "execution_count": 25,
   "metadata": {},
   "outputs": [],
   "source": [
    "from sklearn.dummy import DummyClassifier"
   ]
  },
  {
   "cell_type": "code",
   "execution_count": 26,
   "metadata": {},
   "outputs": [],
   "source": [
    "dm = DummyClassifier()"
   ]
  },
  {
   "cell_type": "code",
   "execution_count": 27,
   "metadata": {},
   "outputs": [
    {
     "data": {
      "text/plain": [
       "DummyClassifier()"
      ]
     },
     "execution_count": 27,
     "metadata": {},
     "output_type": "execute_result"
    }
   ],
   "source": [
    "dm.fit(XtrainTrans, ytrain)"
   ]
  },
  {
   "cell_type": "code",
   "execution_count": 28,
   "metadata": {},
   "outputs": [
    {
     "data": {
      "text/plain": [
       "0.6126126126126126"
      ]
     },
     "execution_count": 28,
     "metadata": {},
     "output_type": "execute_result"
    }
   ],
   "source": [
    "dm.score(XtrainTrans, ytrain)"
   ]
  },
  {
   "cell_type": "markdown",
   "metadata": {},
   "source": [
    "#### 6.2 Train other models"
   ]
  },
  {
   "cell_type": "code",
   "execution_count": 31,
   "metadata": {},
   "outputs": [],
   "source": [
    "from sklearn.linear_model import LogisticRegression\n",
    "from sklearn.ensemble import RandomForestClassifier, VotingClassifier\n",
    "from sklearn.svm import SVC\n",
    "from sklearn.tree import DecisionTreeClassifier"
   ]
  },
  {
   "cell_type": "markdown",
   "metadata": {},
   "source": [
    "I decided to run several models and use the VotingClassifier in order to select the one model with the best results"
   ]
  },
  {
   "cell_type": "code",
   "execution_count": 32,
   "metadata": {},
   "outputs": [],
   "source": [
    "mlr = LogisticRegression()\n",
    "mrf = RandomForestClassifier()\n",
    "msv = SVC()\n",
    "tree = DecisionTreeClassifier(max_depth=3)\n",
    "models = [\n",
    "    ('logreg', mlr),\n",
    "    ('forest', mrf),\n",
    "    ('svm', msv),\n",
    "    ('tree', tree)\n",
    "]"
   ]
  },
  {
   "cell_type": "code",
   "execution_count": 33,
   "metadata": {},
   "outputs": [],
   "source": [
    "m = VotingClassifier(models)"
   ]
  },
  {
   "cell_type": "code",
   "execution_count": 34,
   "metadata": {},
   "outputs": [
    {
     "data": {
      "text/plain": [
       "VotingClassifier(estimators=[('logreg', LogisticRegression()),\n",
       "                             ('forest', RandomForestClassifier()),\n",
       "                             ('svm', SVC()),\n",
       "                             ('tree', DecisionTreeClassifier(max_depth=3))])"
      ]
     },
     "execution_count": 34,
     "metadata": {},
     "output_type": "execute_result"
    }
   ],
   "source": [
    "m.fit(XtrainTrans, ytrain)"
   ]
  },
  {
   "cell_type": "code",
   "execution_count": 35,
   "metadata": {},
   "outputs": [
    {
     "data": {
      "text/plain": [
       "(0.8543543543543544, 0.8071748878923767)"
      ]
     },
     "execution_count": 35,
     "metadata": {},
     "output_type": "execute_result"
    }
   ],
   "source": [
    "# Accuracy\n",
    "m.score(XtrainTrans, ytrain), m.score(XtestTrans, ytest)"
   ]
  },
  {
   "cell_type": "markdown",
   "metadata": {},
   "source": [
    "The accuracy on the train data is 85% while on the test data it's lower - 80%. Let's proceed to optimization."
   ]
  },
  {
   "cell_type": "markdown",
   "metadata": {},
   "source": [
    "# 7. Optimization"
   ]
  },
  {
   "cell_type": "markdown",
   "metadata": {},
   "source": [
    "#### Crossvalidation"
   ]
  },
  {
   "cell_type": "code",
   "execution_count": 38,
   "metadata": {},
   "outputs": [],
   "source": [
    "from sklearn.model_selection import cross_val_score\n",
    "import numpy as np"
   ]
  },
  {
   "cell_type": "markdown",
   "metadata": {},
   "source": [
    "I will compare 4 performance metrics: `accuracy`, `precision`, `recall` and `f1`. I will create a DataFrame out of this `cross validation` in order to have a better overview of this metrics."
   ]
  },
  {
   "cell_type": "code",
   "execution_count": 40,
   "metadata": {},
   "outputs": [],
   "source": [
    "strings = [\n",
    "    'accuracy',\n",
    "    'precision',\n",
    "    'recall',\n",
    "    'f1'\n",
    "]\n",
    "cols = ['traintest', 'model', 'metric', 'mean', 'std']\n",
    "traintest= [[XtrainTrans, ytrain], [XtestTrans, ytest]]\n",
    "metricdf = pd.DataFrame(columns=cols)\n",
    "for i in range(len(traintest)):\n",
    "    if i == 0:\n",
    "        trainortest = 'train'\n",
    "    else:\n",
    "        trainortest = 'test'\n",
    "    for model in models:\n",
    "        for metric in strings:\n",
    "            result = cross_val_score(model[1], traintest[i][0], traintest[i][1], cv = 10, scoring=metric)\n",
    "            row = {'traintest': trainortest, 'model': model[0], 'metric': metric, 'mean': round(np.mean(result), 3), 'std': round(np.std(result),5)}\n",
    "            metricdf = metricdf.append(row, ignore_index=True)\n",
    "    for metric in strings:\n",
    "        result = cross_val_score(m, traintest[i][0], traintest[i][1], cv = 10, scoring=metric)\n",
    "        row = {'traintest': trainortest, 'model': 'VotingClassifier', 'metric': metric, 'mean': round(np.mean(result), 3), 'std': round(np.std(result),5)}\n",
    "        metricdf = metricdf.append(row, ignore_index=True)"
   ]
  },
  {
   "cell_type": "code",
   "execution_count": 41,
   "metadata": {},
   "outputs": [
    {
     "data": {
      "text/html": [
       "<div>\n",
       "<style scoped>\n",
       "    .dataframe tbody tr th:only-of-type {\n",
       "        vertical-align: middle;\n",
       "    }\n",
       "\n",
       "    .dataframe tbody tr th {\n",
       "        vertical-align: top;\n",
       "    }\n",
       "\n",
       "    .dataframe thead th {\n",
       "        text-align: right;\n",
       "    }\n",
       "</style>\n",
       "<table border=\"1\" class=\"dataframe\">\n",
       "  <thead>\n",
       "    <tr style=\"text-align: right;\">\n",
       "      <th></th>\n",
       "      <th>traintest</th>\n",
       "      <th>model</th>\n",
       "      <th>metric</th>\n",
       "      <th>mean</th>\n",
       "      <th>std</th>\n",
       "    </tr>\n",
       "  </thead>\n",
       "  <tbody>\n",
       "    <tr>\n",
       "      <th>0</th>\n",
       "      <td>train</td>\n",
       "      <td>logreg</td>\n",
       "      <td>accuracy</td>\n",
       "      <td>0.805</td>\n",
       "      <td>0.03339</td>\n",
       "    </tr>\n",
       "    <tr>\n",
       "      <th>1</th>\n",
       "      <td>train</td>\n",
       "      <td>logreg</td>\n",
       "      <td>precision</td>\n",
       "      <td>0.770</td>\n",
       "      <td>0.05865</td>\n",
       "    </tr>\n",
       "    <tr>\n",
       "      <th>2</th>\n",
       "      <td>train</td>\n",
       "      <td>logreg</td>\n",
       "      <td>recall</td>\n",
       "      <td>0.717</td>\n",
       "      <td>0.07931</td>\n",
       "    </tr>\n",
       "    <tr>\n",
       "      <th>3</th>\n",
       "      <td>train</td>\n",
       "      <td>logreg</td>\n",
       "      <td>f1</td>\n",
       "      <td>0.739</td>\n",
       "      <td>0.04852</td>\n",
       "    </tr>\n",
       "    <tr>\n",
       "      <th>4</th>\n",
       "      <td>train</td>\n",
       "      <td>forest</td>\n",
       "      <td>accuracy</td>\n",
       "      <td>0.821</td>\n",
       "      <td>0.04102</td>\n",
       "    </tr>\n",
       "    <tr>\n",
       "      <th>5</th>\n",
       "      <td>train</td>\n",
       "      <td>forest</td>\n",
       "      <td>precision</td>\n",
       "      <td>0.792</td>\n",
       "      <td>0.09202</td>\n",
       "    </tr>\n",
       "    <tr>\n",
       "      <th>6</th>\n",
       "      <td>train</td>\n",
       "      <td>forest</td>\n",
       "      <td>recall</td>\n",
       "      <td>0.748</td>\n",
       "      <td>0.06423</td>\n",
       "    </tr>\n",
       "    <tr>\n",
       "      <th>7</th>\n",
       "      <td>train</td>\n",
       "      <td>forest</td>\n",
       "      <td>f1</td>\n",
       "      <td>0.760</td>\n",
       "      <td>0.04740</td>\n",
       "    </tr>\n",
       "    <tr>\n",
       "      <th>8</th>\n",
       "      <td>train</td>\n",
       "      <td>svm</td>\n",
       "      <td>accuracy</td>\n",
       "      <td>0.815</td>\n",
       "      <td>0.02562</td>\n",
       "    </tr>\n",
       "    <tr>\n",
       "      <th>9</th>\n",
       "      <td>train</td>\n",
       "      <td>svm</td>\n",
       "      <td>precision</td>\n",
       "      <td>0.876</td>\n",
       "      <td>0.07042</td>\n",
       "    </tr>\n",
       "    <tr>\n",
       "      <th>10</th>\n",
       "      <td>train</td>\n",
       "      <td>svm</td>\n",
       "      <td>recall</td>\n",
       "      <td>0.620</td>\n",
       "      <td>0.08550</td>\n",
       "    </tr>\n",
       "    <tr>\n",
       "      <th>11</th>\n",
       "      <td>train</td>\n",
       "      <td>svm</td>\n",
       "      <td>f1</td>\n",
       "      <td>0.719</td>\n",
       "      <td>0.05303</td>\n",
       "    </tr>\n",
       "    <tr>\n",
       "      <th>12</th>\n",
       "      <td>train</td>\n",
       "      <td>tree</td>\n",
       "      <td>accuracy</td>\n",
       "      <td>0.824</td>\n",
       "      <td>0.03009</td>\n",
       "    </tr>\n",
       "    <tr>\n",
       "      <th>13</th>\n",
       "      <td>train</td>\n",
       "      <td>tree</td>\n",
       "      <td>precision</td>\n",
       "      <td>0.800</td>\n",
       "      <td>0.04929</td>\n",
       "    </tr>\n",
       "    <tr>\n",
       "      <th>14</th>\n",
       "      <td>train</td>\n",
       "      <td>tree</td>\n",
       "      <td>recall</td>\n",
       "      <td>0.732</td>\n",
       "      <td>0.06118</td>\n",
       "    </tr>\n",
       "    <tr>\n",
       "      <th>15</th>\n",
       "      <td>train</td>\n",
       "      <td>tree</td>\n",
       "      <td>f1</td>\n",
       "      <td>0.763</td>\n",
       "      <td>0.04271</td>\n",
       "    </tr>\n",
       "    <tr>\n",
       "      <th>16</th>\n",
       "      <td>train</td>\n",
       "      <td>VotingClassifier</td>\n",
       "      <td>accuracy</td>\n",
       "      <td>0.821</td>\n",
       "      <td>0.02402</td>\n",
       "    </tr>\n",
       "    <tr>\n",
       "      <th>17</th>\n",
       "      <td>train</td>\n",
       "      <td>VotingClassifier</td>\n",
       "      <td>precision</td>\n",
       "      <td>0.851</td>\n",
       "      <td>0.05324</td>\n",
       "    </tr>\n",
       "    <tr>\n",
       "      <th>18</th>\n",
       "      <td>train</td>\n",
       "      <td>VotingClassifier</td>\n",
       "      <td>recall</td>\n",
       "      <td>0.659</td>\n",
       "      <td>0.08959</td>\n",
       "    </tr>\n",
       "    <tr>\n",
       "      <th>19</th>\n",
       "      <td>train</td>\n",
       "      <td>VotingClassifier</td>\n",
       "      <td>f1</td>\n",
       "      <td>0.736</td>\n",
       "      <td>0.05068</td>\n",
       "    </tr>\n",
       "    <tr>\n",
       "      <th>20</th>\n",
       "      <td>test</td>\n",
       "      <td>logreg</td>\n",
       "      <td>accuracy</td>\n",
       "      <td>0.793</td>\n",
       "      <td>0.09079</td>\n",
       "    </tr>\n",
       "    <tr>\n",
       "      <th>21</th>\n",
       "      <td>test</td>\n",
       "      <td>logreg</td>\n",
       "      <td>precision</td>\n",
       "      <td>0.761</td>\n",
       "      <td>0.15184</td>\n",
       "    </tr>\n",
       "    <tr>\n",
       "      <th>22</th>\n",
       "      <td>test</td>\n",
       "      <td>logreg</td>\n",
       "      <td>recall</td>\n",
       "      <td>0.697</td>\n",
       "      <td>0.19462</td>\n",
       "    </tr>\n",
       "    <tr>\n",
       "      <th>23</th>\n",
       "      <td>test</td>\n",
       "      <td>logreg</td>\n",
       "      <td>f1</td>\n",
       "      <td>0.705</td>\n",
       "      <td>0.13741</td>\n",
       "    </tr>\n",
       "    <tr>\n",
       "      <th>24</th>\n",
       "      <td>test</td>\n",
       "      <td>forest</td>\n",
       "      <td>accuracy</td>\n",
       "      <td>0.780</td>\n",
       "      <td>0.06245</td>\n",
       "    </tr>\n",
       "    <tr>\n",
       "      <th>25</th>\n",
       "      <td>test</td>\n",
       "      <td>forest</td>\n",
       "      <td>precision</td>\n",
       "      <td>0.715</td>\n",
       "      <td>0.14019</td>\n",
       "    </tr>\n",
       "    <tr>\n",
       "      <th>26</th>\n",
       "      <td>test</td>\n",
       "      <td>forest</td>\n",
       "      <td>recall</td>\n",
       "      <td>0.646</td>\n",
       "      <td>0.12824</td>\n",
       "    </tr>\n",
       "    <tr>\n",
       "      <th>27</th>\n",
       "      <td>test</td>\n",
       "      <td>forest</td>\n",
       "      <td>f1</td>\n",
       "      <td>0.670</td>\n",
       "      <td>0.06677</td>\n",
       "    </tr>\n",
       "    <tr>\n",
       "      <th>28</th>\n",
       "      <td>test</td>\n",
       "      <td>svm</td>\n",
       "      <td>accuracy</td>\n",
       "      <td>0.798</td>\n",
       "      <td>0.07757</td>\n",
       "    </tr>\n",
       "    <tr>\n",
       "      <th>29</th>\n",
       "      <td>test</td>\n",
       "      <td>svm</td>\n",
       "      <td>precision</td>\n",
       "      <td>0.828</td>\n",
       "      <td>0.14795</td>\n",
       "    </tr>\n",
       "    <tr>\n",
       "      <th>30</th>\n",
       "      <td>test</td>\n",
       "      <td>svm</td>\n",
       "      <td>recall</td>\n",
       "      <td>0.597</td>\n",
       "      <td>0.18993</td>\n",
       "    </tr>\n",
       "    <tr>\n",
       "      <th>31</th>\n",
       "      <td>test</td>\n",
       "      <td>svm</td>\n",
       "      <td>f1</td>\n",
       "      <td>0.671</td>\n",
       "      <td>0.14818</td>\n",
       "    </tr>\n",
       "    <tr>\n",
       "      <th>32</th>\n",
       "      <td>test</td>\n",
       "      <td>tree</td>\n",
       "      <td>accuracy</td>\n",
       "      <td>0.785</td>\n",
       "      <td>0.08271</td>\n",
       "    </tr>\n",
       "    <tr>\n",
       "      <th>33</th>\n",
       "      <td>test</td>\n",
       "      <td>tree</td>\n",
       "      <td>precision</td>\n",
       "      <td>0.756</td>\n",
       "      <td>0.11654</td>\n",
       "    </tr>\n",
       "    <tr>\n",
       "      <th>34</th>\n",
       "      <td>test</td>\n",
       "      <td>tree</td>\n",
       "      <td>recall</td>\n",
       "      <td>0.635</td>\n",
       "      <td>0.21952</td>\n",
       "    </tr>\n",
       "    <tr>\n",
       "      <th>35</th>\n",
       "      <td>test</td>\n",
       "      <td>tree</td>\n",
       "      <td>f1</td>\n",
       "      <td>0.667</td>\n",
       "      <td>0.15760</td>\n",
       "    </tr>\n",
       "    <tr>\n",
       "      <th>36</th>\n",
       "      <td>test</td>\n",
       "      <td>VotingClassifier</td>\n",
       "      <td>accuracy</td>\n",
       "      <td>0.807</td>\n",
       "      <td>0.07037</td>\n",
       "    </tr>\n",
       "    <tr>\n",
       "      <th>37</th>\n",
       "      <td>test</td>\n",
       "      <td>VotingClassifier</td>\n",
       "      <td>precision</td>\n",
       "      <td>0.818</td>\n",
       "      <td>0.11946</td>\n",
       "    </tr>\n",
       "    <tr>\n",
       "      <th>38</th>\n",
       "      <td>test</td>\n",
       "      <td>VotingClassifier</td>\n",
       "      <td>recall</td>\n",
       "      <td>0.635</td>\n",
       "      <td>0.17906</td>\n",
       "    </tr>\n",
       "    <tr>\n",
       "      <th>39</th>\n",
       "      <td>test</td>\n",
       "      <td>VotingClassifier</td>\n",
       "      <td>f1</td>\n",
       "      <td>0.697</td>\n",
       "      <td>0.12151</td>\n",
       "    </tr>\n",
       "  </tbody>\n",
       "</table>\n",
       "</div>"
      ],
      "text/plain": [
       "   traintest             model     metric   mean      std\n",
       "0      train            logreg   accuracy  0.805  0.03339\n",
       "1      train            logreg  precision  0.770  0.05865\n",
       "2      train            logreg     recall  0.717  0.07931\n",
       "3      train            logreg         f1  0.739  0.04852\n",
       "4      train            forest   accuracy  0.821  0.04102\n",
       "5      train            forest  precision  0.792  0.09202\n",
       "6      train            forest     recall  0.748  0.06423\n",
       "7      train            forest         f1  0.760  0.04740\n",
       "8      train               svm   accuracy  0.815  0.02562\n",
       "9      train               svm  precision  0.876  0.07042\n",
       "10     train               svm     recall  0.620  0.08550\n",
       "11     train               svm         f1  0.719  0.05303\n",
       "12     train              tree   accuracy  0.824  0.03009\n",
       "13     train              tree  precision  0.800  0.04929\n",
       "14     train              tree     recall  0.732  0.06118\n",
       "15     train              tree         f1  0.763  0.04271\n",
       "16     train  VotingClassifier   accuracy  0.821  0.02402\n",
       "17     train  VotingClassifier  precision  0.851  0.05324\n",
       "18     train  VotingClassifier     recall  0.659  0.08959\n",
       "19     train  VotingClassifier         f1  0.736  0.05068\n",
       "20      test            logreg   accuracy  0.793  0.09079\n",
       "21      test            logreg  precision  0.761  0.15184\n",
       "22      test            logreg     recall  0.697  0.19462\n",
       "23      test            logreg         f1  0.705  0.13741\n",
       "24      test            forest   accuracy  0.780  0.06245\n",
       "25      test            forest  precision  0.715  0.14019\n",
       "26      test            forest     recall  0.646  0.12824\n",
       "27      test            forest         f1  0.670  0.06677\n",
       "28      test               svm   accuracy  0.798  0.07757\n",
       "29      test               svm  precision  0.828  0.14795\n",
       "30      test               svm     recall  0.597  0.18993\n",
       "31      test               svm         f1  0.671  0.14818\n",
       "32      test              tree   accuracy  0.785  0.08271\n",
       "33      test              tree  precision  0.756  0.11654\n",
       "34      test              tree     recall  0.635  0.21952\n",
       "35      test              tree         f1  0.667  0.15760\n",
       "36      test  VotingClassifier   accuracy  0.807  0.07037\n",
       "37      test  VotingClassifier  precision  0.818  0.11946\n",
       "38      test  VotingClassifier     recall  0.635  0.17906\n",
       "39      test  VotingClassifier         f1  0.697  0.12151"
      ]
     },
     "execution_count": 41,
     "metadata": {},
     "output_type": "execute_result"
    }
   ],
   "source": [
    "metricdf"
   ]
  },
  {
   "cell_type": "markdown",
   "metadata": {},
   "source": [
    "Some people prefer to use the `classification_report` function for this overview, so I took the opportunity to display the results with this function too."
   ]
  },
  {
   "cell_type": "code",
   "execution_count": 42,
   "metadata": {},
   "outputs": [],
   "source": [
    "from sklearn.metrics import classification_report"
   ]
  },
  {
   "cell_type": "code",
   "execution_count": 43,
   "metadata": {},
   "outputs": [
    {
     "name": "stdout",
     "output_type": "stream",
     "text": [
      "train LogisticRegression\n",
      "              precision    recall  f1-score   support\n",
      "\n",
      "           0       0.84      0.87      0.85       408\n",
      "           1       0.77      0.73      0.75       258\n",
      "\n",
      "    accuracy                           0.81       666\n",
      "   macro avg       0.81      0.80      0.80       666\n",
      "weighted avg       0.81      0.81      0.81       666\n",
      "\n",
      "test LogisticRegression\n",
      "              precision    recall  f1-score   support\n",
      "\n",
      "           0       0.85      0.86      0.85       141\n",
      "           1       0.75      0.73      0.74        82\n",
      "\n",
      "    accuracy                           0.81       223\n",
      "   macro avg       0.80      0.79      0.80       223\n",
      "weighted avg       0.81      0.81      0.81       223\n",
      "\n",
      "train RandomForestClassifier\n",
      "              precision    recall  f1-score   support\n",
      "\n",
      "           0       0.94      0.96      0.95       408\n",
      "           1       0.94      0.90      0.92       258\n",
      "\n",
      "    accuracy                           0.94       666\n",
      "   macro avg       0.94      0.93      0.93       666\n",
      "weighted avg       0.94      0.94      0.94       666\n",
      "\n",
      "test RandomForestClassifier\n",
      "              precision    recall  f1-score   support\n",
      "\n",
      "           0       0.96      0.96      0.96       141\n",
      "           1       0.94      0.94      0.94        82\n",
      "\n",
      "    accuracy                           0.96       223\n",
      "   macro avg       0.95      0.95      0.95       223\n",
      "weighted avg       0.96      0.96      0.96       223\n",
      "\n",
      "train SVC\n",
      "              precision    recall  f1-score   support\n",
      "\n",
      "           0       0.80      0.96      0.87       408\n",
      "           1       0.90      0.62      0.74       258\n",
      "\n",
      "    accuracy                           0.83       666\n",
      "   macro avg       0.85      0.79      0.80       666\n",
      "weighted avg       0.84      0.83      0.82       666\n",
      "\n",
      "test SVC\n",
      "              precision    recall  f1-score   support\n",
      "\n",
      "           0       0.81      0.96      0.88       141\n",
      "           1       0.91      0.61      0.73        82\n",
      "\n",
      "    accuracy                           0.83       223\n",
      "   macro avg       0.86      0.79      0.81       223\n",
      "weighted avg       0.85      0.83      0.82       223\n",
      "\n",
      "train DecisionTreeClassifier\n",
      "              precision    recall  f1-score   support\n",
      "\n",
      "           0       0.84      0.90      0.87       408\n",
      "           1       0.83      0.74      0.78       258\n",
      "\n",
      "    accuracy                           0.84       666\n",
      "   macro avg       0.84      0.82      0.83       666\n",
      "weighted avg       0.84      0.84      0.84       666\n",
      "\n",
      "test DecisionTreeClassifier\n",
      "              precision    recall  f1-score   support\n",
      "\n",
      "           0       0.83      0.94      0.88       141\n",
      "           1       0.87      0.66      0.75        82\n",
      "\n",
      "    accuracy                           0.84       223\n",
      "   macro avg       0.85      0.80      0.82       223\n",
      "weighted avg       0.84      0.84      0.83       223\n",
      "\n",
      "train VotingClassifier\n",
      "              precision    recall  f1-score   support\n",
      "\n",
      "           0       0.84      0.95      0.89       408\n",
      "           1       0.90      0.71      0.79       258\n",
      "\n",
      "    accuracy                           0.85       666\n",
      "   macro avg       0.87      0.83      0.84       666\n",
      "weighted avg       0.86      0.85      0.85       666\n",
      "\n",
      "test VotingClassifier\n",
      "              precision    recall  f1-score   support\n",
      "\n",
      "           0       0.82      0.96      0.89       141\n",
      "           1       0.91      0.63      0.75        82\n",
      "\n",
      "    accuracy                           0.84       223\n",
      "   macro avg       0.87      0.80      0.82       223\n",
      "weighted avg       0.85      0.84      0.84       223\n",
      "\n"
     ]
    }
   ],
   "source": [
    "allmodels = [\n",
    "    mlr,\n",
    "    mrf,\n",
    "    msv,\n",
    "    tree,\n",
    "    m\n",
    "]\n",
    "for each in allmodels:\n",
    "    for dataset in range(len(traintest)):\n",
    "        if dataset == 0:\n",
    "            trainortest = 'train'\n",
    "        else:\n",
    "            trainortest = 'test'\n",
    "        each.fit(traintest[dataset][0], traintest[dataset][1])\n",
    "        pred = each.predict(traintest[dataset][0])\n",
    "        print(trainortest, str(type(each)).split('.')[-1].replace(\"'>\", \"\"))\n",
    "        print(classification_report(traintest[dataset][1], pred))"
   ]
  },
  {
   "cell_type": "markdown",
   "metadata": {},
   "source": [
    "#### Using the classification report vs. cross_val_score\n",
    "- With the cross_val_score it's easier to take a look at the model running with different sampling and several iterations.\n",
    "    - Using some statistical methods on the result helps me understand the level of robustness of each model\n",
    "        - It seems as if the level of robustness drops sigificantly with test/new data - This may be to the fact, that the test data set is smaller\n",
    "- Using the classification report helps me understand at which scoring method the models seem to perform better than other\n",
    "    - In train and test data the models seem to perform equally good"
   ]
  },
  {
   "cell_type": "code",
   "execution_count": null,
   "metadata": {},
   "outputs": [],
   "source": [
    "\n"
   ]
  }
 ],
 "metadata": {
  "kernelspec": {
   "display_name": "Python 3",
   "language": "python",
   "name": "python3"
  },
  "language_info": {
   "codemirror_mode": {
    "name": "ipython",
    "version": 3
   },
   "file_extension": ".py",
   "mimetype": "text/x-python",
   "name": "python",
   "nbconvert_exporter": "python",
   "pygments_lexer": "ipython3",
   "version": "3.8.8"
  }
 },
 "nbformat": 4,
 "nbformat_minor": 4
}
